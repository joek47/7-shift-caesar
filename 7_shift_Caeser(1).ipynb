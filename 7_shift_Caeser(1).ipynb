{
  "nbformat": 4,
  "nbformat_minor": 0,
  "metadata": {
    "colab": {
      "name": "7-shift Caeser.ipynb",
      "version": "0.3.2",
      "provenance": [],
      "collapsed_sections": []
    },
    "kernelspec": {
      "name": "python3",
      "display_name": "Python 3"
    }
  },
  "cells": [
    {
      "cell_type": "markdown",
      "metadata": {
        "id": "zdOoA3EQvaC9",
        "colab_type": "text"
      },
      "source": [
        "[Using AI to perform Cryptanalysis](https://crypto.stackexchange.com/questions/72175/using-ai-to-perform-cryptanalysis/72176)\n",
        "\n",
        "Could a neural network be trained on these examples, and then shown a new cyphertext, not in the training set, such as \"isbl\" and correctly infer the result as \"blue\"?\n",
        "\n"
      ]
    },
    {
      "cell_type": "code",
      "metadata": {
        "id": "86XyVlcvwL1c",
        "colab_type": "code",
        "colab": {
          "base_uri": "https://localhost:8080/",
          "height": 34
        },
        "outputId": "cc2d96b7-71c6-493e-c808-389de141a36d"
      },
      "source": [
        "# dependencies\n",
        "import numpy as np\n",
        "\n",
        "# machine learning\n",
        "from keras.models import Sequential\n",
        "from keras.layers import Dense\n",
        "\n",
        "# constants\n",
        "BASE = 97\n",
        "MAX = 26"
      ],
      "execution_count": 1,
      "outputs": [
        {
          "output_type": "stream",
          "text": [
            "Using TensorFlow backend.\n"
          ],
          "name": "stderr"
        }
      ]
    },
    {
      "cell_type": "code",
      "metadata": {
        "id": "X1IQrtFRvgvF",
        "colab_type": "code",
        "colab": {}
      },
      "source": [
        "# let's assign a = 1, z = 26, ciphertext x and decrypted value y\n",
        "y = np.arange(0,MAX,1)\n",
        "x = np.roll(y,-7)"
      ],
      "execution_count": 0,
      "outputs": []
    },
    {
      "cell_type": "code",
      "metadata": {
        "id": "P5TcJLdT3Vbc",
        "colab_type": "code",
        "outputId": "5b6a1624-133e-40ee-9a2a-1744f0a05a8d",
        "colab": {
          "base_uri": "https://localhost:8080/",
          "height": 86
        }
      },
      "source": [
        "x,y"
      ],
      "execution_count": 3,
      "outputs": [
        {
          "output_type": "execute_result",
          "data": {
            "text/plain": [
              "(array([ 7,  8,  9, 10, 11, 12, 13, 14, 15, 16, 17, 18, 19, 20, 21, 22, 23,\n",
              "        24, 25,  0,  1,  2,  3,  4,  5,  6]),\n",
              " array([ 0,  1,  2,  3,  4,  5,  6,  7,  8,  9, 10, 11, 12, 13, 14, 15, 16,\n",
              "        17, 18, 19, 20, 21, 22, 23, 24, 25]))"
            ]
          },
          "metadata": {
            "tags": []
          },
          "execution_count": 3
        }
      ]
    },
    {
      "cell_type": "markdown",
      "metadata": {
        "id": "ecLfxnAY3U7w",
        "colab_type": "text"
      },
      "source": [
        ""
      ]
    },
    {
      "cell_type": "code",
      "metadata": {
        "id": "OUwxU3yVwEmh",
        "colab_type": "code",
        "outputId": "93e124dc-13a7-4fd5-adfc-7bec5f067dc8",
        "colab": {
          "base_uri": "https://localhost:8080/",
          "height": 486
        }
      },
      "source": [
        "print('Ciphertext to Input:')\n",
        "# for i in np.random.randint(MAX,size = 3):\n",
        "for i in range(len(x)):\n",
        "#   print(i)\n",
        "  print(chr(x[i]+BASE)+' => '+chr(y[i]+BASE))"
      ],
      "execution_count": 7,
      "outputs": [
        {
          "output_type": "stream",
          "text": [
            "Ciphertext to Input:\n",
            "h => a\n",
            "i => b\n",
            "j => c\n",
            "k => d\n",
            "l => e\n",
            "m => f\n",
            "n => g\n",
            "o => h\n",
            "p => i\n",
            "q => j\n",
            "r => k\n",
            "s => l\n",
            "t => m\n",
            "u => n\n",
            "v => o\n",
            "w => p\n",
            "x => q\n",
            "y => r\n",
            "z => s\n",
            "a => t\n",
            "b => u\n",
            "c => v\n",
            "d => w\n",
            "e => x\n",
            "f => y\n",
            "g => z\n"
          ],
          "name": "stdout"
        }
      ]
    },
    {
      "cell_type": "code",
      "metadata": {
        "id": "JT7VrtE48f0U",
        "colab_type": "code",
        "colab": {}
      },
      "source": [
        "model = Sequential()\n",
        "model.add(Dense(256, input_dim=1, activation='relu'))\n",
        "model.add(Dense(128, activation='relu'))\n",
        "model.add(Dense(64, activation='relu'))\n",
        "model.add(Dense(32, activation='relu'))\n",
        "model.add(Dense(MAX, activation='softmax'))\n",
        "\n",
        "model.compile(optimizer='adam', loss='sparse_categorical_crossentropy', metrics=['accuracy'])\n",
        "\n",
        "history = model.fit(x, y, epochs = 500, verbose=0)"
      ],
      "execution_count": 0,
      "outputs": []
    },
    {
      "cell_type": "code",
      "metadata": {
        "id": "KgcLLIw64aaU",
        "colab_type": "code",
        "colab": {
          "base_uri": "https://localhost:8080/",
          "height": 69
        },
        "outputId": "61dad087-3a1b-4890-f782-1f4fe7489037"
      },
      "source": [
        "for x_test in [['o', 'l', 's', 's', 'v'], \\\n",
        "               ['i','f','l'], \\\n",
        "               ['d', 'v', 'y', 's', 'k']]:\n",
        "  x_test = list(map(lambda x: ord(x) - BASE, x_test))\n",
        "  # print (x_test)\n",
        "\n",
        "  pred = model.predict_classes(x_test)\n",
        "  print(list(map(lambda x: chr(x + BASE), pred)))"
      ],
      "execution_count": 9,
      "outputs": [
        {
          "output_type": "stream",
          "text": [
            "['h', 'e', 'l', 'l', 'o']\n",
            "['b', 'y', 'e']\n",
            "['w', 'o', 'r', 'l', 'd']\n"
          ],
          "name": "stdout"
        }
      ]
    }
  ]
}